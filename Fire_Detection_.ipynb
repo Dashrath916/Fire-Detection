{
  "nbformat": 4,
  "nbformat_minor": 0,
  "metadata": {
    "colab": {
      "provenance": [],
      "gpuType": "T4"
    },
    "kernelspec": {
      "name": "python3",
      "display_name": "Python 3"
    },
    "language_info": {
      "name": "python"
    },
    "accelerator": "GPU"
  },
  "cells": [
    {
      "cell_type": "markdown",
      "source": [
        "#Fire Detection\n"
      ],
      "metadata": {
        "id": "PVwCOvDqd1js"
      }
    },
    {
      "cell_type": "code",
      "source": [
        "# Install required libraries if needed\n",
        "!pip install tensorflow numpy opencv-python matplotlib\n"
      ],
      "metadata": {
        "colab": {
          "base_uri": "https://localhost:8080/"
        },
        "id": "RqVlOt9ztFf6",
        "outputId": "53b6a724-71c1-4267-dba7-60c48e2f1cf5"
      },
      "execution_count": 1,
      "outputs": [
        {
          "output_type": "stream",
          "name": "stdout",
          "text": [
            "Requirement already satisfied: tensorflow in /usr/local/lib/python3.10/dist-packages (2.15.0)\n",
            "Requirement already satisfied: numpy in /usr/local/lib/python3.10/dist-packages (1.25.2)\n",
            "Requirement already satisfied: opencv-python in /usr/local/lib/python3.10/dist-packages (4.8.0.76)\n",
            "Requirement already satisfied: matplotlib in /usr/local/lib/python3.10/dist-packages (3.7.1)\n",
            "Requirement already satisfied: absl-py>=1.0.0 in /usr/local/lib/python3.10/dist-packages (from tensorflow) (1.4.0)\n",
            "Requirement already satisfied: astunparse>=1.6.0 in /usr/local/lib/python3.10/dist-packages (from tensorflow) (1.6.3)\n",
            "Requirement already satisfied: flatbuffers>=23.5.26 in /usr/local/lib/python3.10/dist-packages (from tensorflow) (24.3.25)\n",
            "Requirement already satisfied: gast!=0.5.0,!=0.5.1,!=0.5.2,>=0.2.1 in /usr/local/lib/python3.10/dist-packages (from tensorflow) (0.5.4)\n",
            "Requirement already satisfied: google-pasta>=0.1.1 in /usr/local/lib/python3.10/dist-packages (from tensorflow) (0.2.0)\n",
            "Requirement already satisfied: h5py>=2.9.0 in /usr/local/lib/python3.10/dist-packages (from tensorflow) (3.9.0)\n",
            "Requirement already satisfied: libclang>=13.0.0 in /usr/local/lib/python3.10/dist-packages (from tensorflow) (18.1.1)\n",
            "Requirement already satisfied: ml-dtypes~=0.2.0 in /usr/local/lib/python3.10/dist-packages (from tensorflow) (0.2.0)\n",
            "Requirement already satisfied: opt-einsum>=2.3.2 in /usr/local/lib/python3.10/dist-packages (from tensorflow) (3.3.0)\n",
            "Requirement already satisfied: packaging in /usr/local/lib/python3.10/dist-packages (from tensorflow) (24.0)\n",
            "Requirement already satisfied: protobuf!=4.21.0,!=4.21.1,!=4.21.2,!=4.21.3,!=4.21.4,!=4.21.5,<5.0.0dev,>=3.20.3 in /usr/local/lib/python3.10/dist-packages (from tensorflow) (3.20.3)\n",
            "Requirement already satisfied: setuptools in /usr/local/lib/python3.10/dist-packages (from tensorflow) (67.7.2)\n",
            "Requirement already satisfied: six>=1.12.0 in /usr/local/lib/python3.10/dist-packages (from tensorflow) (1.16.0)\n",
            "Requirement already satisfied: termcolor>=1.1.0 in /usr/local/lib/python3.10/dist-packages (from tensorflow) (2.4.0)\n",
            "Requirement already satisfied: typing-extensions>=3.6.6 in /usr/local/lib/python3.10/dist-packages (from tensorflow) (4.11.0)\n",
            "Requirement already satisfied: wrapt<1.15,>=1.11.0 in /usr/local/lib/python3.10/dist-packages (from tensorflow) (1.14.1)\n",
            "Requirement already satisfied: tensorflow-io-gcs-filesystem>=0.23.1 in /usr/local/lib/python3.10/dist-packages (from tensorflow) (0.37.0)\n",
            "Requirement already satisfied: grpcio<2.0,>=1.24.3 in /usr/local/lib/python3.10/dist-packages (from tensorflow) (1.63.0)\n",
            "Requirement already satisfied: tensorboard<2.16,>=2.15 in /usr/local/lib/python3.10/dist-packages (from tensorflow) (2.15.2)\n",
            "Requirement already satisfied: tensorflow-estimator<2.16,>=2.15.0 in /usr/local/lib/python3.10/dist-packages (from tensorflow) (2.15.0)\n",
            "Requirement already satisfied: keras<2.16,>=2.15.0 in /usr/local/lib/python3.10/dist-packages (from tensorflow) (2.15.0)\n",
            "Requirement already satisfied: contourpy>=1.0.1 in /usr/local/lib/python3.10/dist-packages (from matplotlib) (1.2.1)\n",
            "Requirement already satisfied: cycler>=0.10 in /usr/local/lib/python3.10/dist-packages (from matplotlib) (0.12.1)\n",
            "Requirement already satisfied: fonttools>=4.22.0 in /usr/local/lib/python3.10/dist-packages (from matplotlib) (4.51.0)\n",
            "Requirement already satisfied: kiwisolver>=1.0.1 in /usr/local/lib/python3.10/dist-packages (from matplotlib) (1.4.5)\n",
            "Requirement already satisfied: pillow>=6.2.0 in /usr/local/lib/python3.10/dist-packages (from matplotlib) (9.4.0)\n",
            "Requirement already satisfied: pyparsing>=2.3.1 in /usr/local/lib/python3.10/dist-packages (from matplotlib) (3.1.2)\n",
            "Requirement already satisfied: python-dateutil>=2.7 in /usr/local/lib/python3.10/dist-packages (from matplotlib) (2.8.2)\n",
            "Requirement already satisfied: wheel<1.0,>=0.23.0 in /usr/local/lib/python3.10/dist-packages (from astunparse>=1.6.0->tensorflow) (0.43.0)\n",
            "Requirement already satisfied: google-auth<3,>=1.6.3 in /usr/local/lib/python3.10/dist-packages (from tensorboard<2.16,>=2.15->tensorflow) (2.27.0)\n",
            "Requirement already satisfied: google-auth-oauthlib<2,>=0.5 in /usr/local/lib/python3.10/dist-packages (from tensorboard<2.16,>=2.15->tensorflow) (1.2.0)\n",
            "Requirement already satisfied: markdown>=2.6.8 in /usr/local/lib/python3.10/dist-packages (from tensorboard<2.16,>=2.15->tensorflow) (3.6)\n",
            "Requirement already satisfied: requests<3,>=2.21.0 in /usr/local/lib/python3.10/dist-packages (from tensorboard<2.16,>=2.15->tensorflow) (2.31.0)\n",
            "Requirement already satisfied: tensorboard-data-server<0.8.0,>=0.7.0 in /usr/local/lib/python3.10/dist-packages (from tensorboard<2.16,>=2.15->tensorflow) (0.7.2)\n",
            "Requirement already satisfied: werkzeug>=1.0.1 in /usr/local/lib/python3.10/dist-packages (from tensorboard<2.16,>=2.15->tensorflow) (3.0.2)\n",
            "Requirement already satisfied: cachetools<6.0,>=2.0.0 in /usr/local/lib/python3.10/dist-packages (from google-auth<3,>=1.6.3->tensorboard<2.16,>=2.15->tensorflow) (5.3.3)\n",
            "Requirement already satisfied: pyasn1-modules>=0.2.1 in /usr/local/lib/python3.10/dist-packages (from google-auth<3,>=1.6.3->tensorboard<2.16,>=2.15->tensorflow) (0.4.0)\n",
            "Requirement already satisfied: rsa<5,>=3.1.4 in /usr/local/lib/python3.10/dist-packages (from google-auth<3,>=1.6.3->tensorboard<2.16,>=2.15->tensorflow) (4.9)\n",
            "Requirement already satisfied: requests-oauthlib>=0.7.0 in /usr/local/lib/python3.10/dist-packages (from google-auth-oauthlib<2,>=0.5->tensorboard<2.16,>=2.15->tensorflow) (1.3.1)\n",
            "Requirement already satisfied: charset-normalizer<4,>=2 in /usr/local/lib/python3.10/dist-packages (from requests<3,>=2.21.0->tensorboard<2.16,>=2.15->tensorflow) (3.3.2)\n",
            "Requirement already satisfied: idna<4,>=2.5 in /usr/local/lib/python3.10/dist-packages (from requests<3,>=2.21.0->tensorboard<2.16,>=2.15->tensorflow) (3.7)\n",
            "Requirement already satisfied: urllib3<3,>=1.21.1 in /usr/local/lib/python3.10/dist-packages (from requests<3,>=2.21.0->tensorboard<2.16,>=2.15->tensorflow) (2.0.7)\n",
            "Requirement already satisfied: certifi>=2017.4.17 in /usr/local/lib/python3.10/dist-packages (from requests<3,>=2.21.0->tensorboard<2.16,>=2.15->tensorflow) (2024.2.2)\n",
            "Requirement already satisfied: MarkupSafe>=2.1.1 in /usr/local/lib/python3.10/dist-packages (from werkzeug>=1.0.1->tensorboard<2.16,>=2.15->tensorflow) (2.1.5)\n",
            "Requirement already satisfied: pyasn1<0.7.0,>=0.4.6 in /usr/local/lib/python3.10/dist-packages (from pyasn1-modules>=0.2.1->google-auth<3,>=1.6.3->tensorboard<2.16,>=2.15->tensorflow) (0.6.0)\n",
            "Requirement already satisfied: oauthlib>=3.0.0 in /usr/local/lib/python3.10/dist-packages (from requests-oauthlib>=0.7.0->google-auth-oauthlib<2,>=0.5->tensorboard<2.16,>=2.15->tensorflow) (3.2.2)\n"
          ]
        }
      ]
    },
    {
      "cell_type": "markdown",
      "source": [
        "#Import important libraries"
      ],
      "metadata": {
        "id": "X28VzGF1eC5S"
      }
    },
    {
      "cell_type": "code",
      "source": [
        "import os\n",
        "import cv2\n",
        "import numpy as np\n",
        "import tensorflow as tf\n",
        "from tensorflow import keras\n",
        "from tensorflow.keras import layers\n",
        "from tensorflow.keras.preprocessing.image import ImageDataGenerator\n",
        "import matplotlib.pyplot as plt\n"
      ],
      "metadata": {
        "id": "LqMa7dnWd40d"
      },
      "execution_count": 2,
      "outputs": []
    },
    {
      "cell_type": "code",
      "source": [
        "from google.colab import drive\n",
        "drive.mount('/content/drive')"
      ],
      "metadata": {
        "colab": {
          "base_uri": "https://localhost:8080/"
        },
        "id": "RFk8wWA-kK6n",
        "outputId": "c48e0a70-6b0d-452d-cc4f-c5955c3ef95f"
      },
      "execution_count": 3,
      "outputs": [
        {
          "output_type": "stream",
          "name": "stdout",
          "text": [
            "Drive already mounted at /content/drive; to attempt to forcibly remount, call drive.mount(\"/content/drive\", force_remount=True).\n"
          ]
        }
      ]
    },
    {
      "cell_type": "markdown",
      "source": [
        "#Load and Preprocess Data:"
      ],
      "metadata": {
        "id": "W5GBk0sntfCx"
      }
    },
    {
      "cell_type": "code",
      "source": [
        "# Define image size and data paths\n",
        "IMG_SIZE = (64, 64)  # Example image size\n",
        "DATASET_PATH = \"/content/drive/MyDrive/deep learning project/Fire_Detector/\"  # Path to your dataset folder\n",
        "\n",
        "# Data augmentation and normalization\n",
        "data_gen = ImageDataGenerator(rescale=1.0/255,  # Normalize images\n",
        "                              rotation_range=20,\n",
        "                              width_shift_range=0.2,\n",
        "                              height_shift_range=0.2,\n",
        "                              shear_range=0.2,\n",
        "                              zoom_range=0.2,\n",
        "                              horizontal_flip=True,\n",
        "                              validation_split=0.2)  # 20% for validation\n",
        "\n",
        "# Load data using data generators\n",
        "train_gen = data_gen.flow_from_directory(DATASET_PATH,\n",
        "                                        target_size=IMG_SIZE,\n",
        "                                        batch_size=32,\n",
        "                                        class_mode='binary',\n",
        "                                        subset='training')  # Training set\n",
        "\n",
        "val_gen = data_gen.flow_from_directory(DATASET_PATH,\n",
        "                                      target_size=IMG_SIZE,\n",
        "                                      batch_size=32,\n",
        "                                      class_mode='binary',\n",
        "                                      subset='validation')  # Validation set\n"
      ],
      "metadata": {
        "id": "oM4QB85zxl0q",
        "colab": {
          "base_uri": "https://localhost:8080/"
        },
        "outputId": "905c5d51-20be-4966-c43c-55d0043afbdc"
      },
      "execution_count": 4,
      "outputs": [
        {
          "output_type": "stream",
          "name": "stdout",
          "text": [
            "Found 202 images belonging to 1 classes.\n",
            "Found 50 images belonging to 1 classes.\n"
          ]
        }
      ]
    },
    {
      "cell_type": "markdown",
      "source": [
        "#Define the CNN Architecture:\n",
        "Create a simple CNN model for fire detection."
      ],
      "metadata": {
        "id": "cwfvTzt2tzzQ"
      }
    },
    {
      "cell_type": "code",
      "source": [
        "classes = ['Non_Fire','Fire']"
      ],
      "metadata": {
        "id": "B0N_b6tgft1b"
      },
      "execution_count": 8,
      "outputs": []
    },
    {
      "cell_type": "code",
      "source": [
        "import tensorflow as tf\n",
        "from tensorflow import keras\n",
        "from tensorflow.keras import layers\n",
        "\n",
        "# Define constants\n",
        "INIT_LR = 0.01  # Initial learning rate\n",
        "NUM_EPOCHS = 25  # Number of epochs for training\n",
        "\n",
        "# Create a sequential model\n",
        "model = keras.Sequential()\n",
        "\n",
        "# First convolution block: CONV => RELU => BATCHNORM => POOL\n",
        "model.add(layers.SeparableConv2D(16, (7, 7), padding='same', input_shape=(128, 128, 3)))  # 16 filters, 7x7 kernel\n",
        "model.add(layers.Activation('relu'))  # ReLU activation\n",
        "model.add(layers.BatchNormalization())  # Normalize activations\n",
        "model.add(layers.MaxPooling2D(pool_size=(2, 2)))  # Halve spatial dimensions\n",
        "\n",
        "# Second convolution block: CONV => RELU => BATCHNORM => POOL\n",
        "model.add(layers.SeparableConv2D(32, (3, 3), padding='same'))  # 32 filters, 3x3 kernel\n",
        "model.add(layers.Activation('relu'))\n",
        "model.add(layers.BatchNormalization())\n",
        "model.add(layers.MaxPooling2D(pool_size=(2, 2)))\n",
        "\n",
        "# Third convolution block: CONV => RELU => BATCHNORM => CONV => RELU => BATCHNORM => POOL\n",
        "model.add(layers.SeparableConv2D(64, (3, 3), padding='same'))  # 64 filters, 3x3 kernel\n",
        "model.add(layers.Activation('relu'))\n",
        "model.add(layers.BatchNormalization())\n",
        "model.add(layers.SeparableConv2D(64, (3, 3), padding='same'))\n",
        "model.add(layers.Activation('relu'))\n",
        "model.add(layers.BatchNormalization())\n",
        "model.add(layers.MaxPooling2D(pool_size=(2, 2)))  # Pooling layer\n",
        "\n",
        "# Fully connected layers: FLATTEN => DENSE => DROPOUT => DENSE => DROPOUT\n",
        "model.add(layers.Flatten())  # Flatten the 2D feature maps into a 1D vector\n",
        "model.add(layers.Dense(128))  # 128 neurons in the dense layer\n",
        "model.add(layers.Activation('relu'))  # Activation function\n",
        "model.add(layers.BatchNormalization())  # Normalize the dense layer\n",
        "model.add(layers.Dropout(0.5))  # Drop 50% of neurons to reduce overfitting\n",
        "\n",
        "# Second fully connected block\n",
        "model.add(layers.Dense(128))  # Another dense layer\n",
        "model.add(layers.Activation('relu'))\n",
        "model.add(layers.BatchNormalization())\n",
        "model.add(layers.Dropout(0.5))  # Dropout for regularization\n",
        "\n",
        "# Output layer with sigmoid for binary classification\n",
        "model.add(layers.Dense(1))  # One neuron for binary classification\n",
        "model.add(layers.Activation('sigmoid'))  # Sigmoid activation for binary outputs\n",
        "\n",
        "# Set the optimizer, Stochastic Gradient Descent with momentum\n",
        "opt = keras.optimizers.SGD(\n",
        "    learning_rate=INIT_LR,  # Use the defined learning rate\n",
        "    momentum=0.9  # Momentum for the optimizer\n",
        ")\n",
        "\n",
        "# Compile the model with binary cross-entropy loss for binary classification\n",
        "model.compile(\n",
        "    loss='binary_crossentropy',  # Loss function for binary classification\n",
        "    optimizer=opt,\n",
        "    metrics=['accuracy']  # Track accuracy\n",
        ")\n",
        "\n",
        "# Display the model summary\n",
        "model.summary()  # Display the model's architecture and parameters\n"
      ],
      "metadata": {
        "colab": {
          "base_uri": "https://localhost:8080/"
        },
        "id": "9LSz7TFdxEwf",
        "outputId": "a81b0dbe-af67-4744-f959-e0975d6a3281"
      },
      "execution_count": 12,
      "outputs": [
        {
          "output_type": "stream",
          "name": "stdout",
          "text": [
            "Model: \"sequential_6\"\n",
            "_________________________________________________________________\n",
            " Layer (type)                Output Shape              Param #   \n",
            "=================================================================\n",
            " separable_conv2d_20 (Separ  (None, 128, 128, 16)      211       \n",
            " ableConv2D)                                                     \n",
            "                                                                 \n",
            " activation_33 (Activation)  (None, 128, 128, 16)      0         \n",
            "                                                                 \n",
            " batch_normalization_30 (Ba  (None, 128, 128, 16)      64        \n",
            " tchNormalization)                                               \n",
            "                                                                 \n",
            " max_pooling2d_18 (MaxPooli  (None, 64, 64, 16)        0         \n",
            " ng2D)                                                           \n",
            "                                                                 \n",
            " separable_conv2d_21 (Separ  (None, 64, 64, 32)        688       \n",
            " ableConv2D)                                                     \n",
            "                                                                 \n",
            " activation_34 (Activation)  (None, 64, 64, 32)        0         \n",
            "                                                                 \n",
            " batch_normalization_31 (Ba  (None, 64, 64, 32)        128       \n",
            " tchNormalization)                                               \n",
            "                                                                 \n",
            " max_pooling2d_19 (MaxPooli  (None, 32, 32, 32)        0         \n",
            " ng2D)                                                           \n",
            "                                                                 \n",
            " separable_conv2d_22 (Separ  (None, 32, 32, 64)        2400      \n",
            " ableConv2D)                                                     \n",
            "                                                                 \n",
            " activation_35 (Activation)  (None, 32, 32, 64)        0         \n",
            "                                                                 \n",
            " batch_normalization_32 (Ba  (None, 32, 32, 64)        256       \n",
            " tchNormalization)                                               \n",
            "                                                                 \n",
            " separable_conv2d_23 (Separ  (None, 32, 32, 64)        4736      \n",
            " ableConv2D)                                                     \n",
            "                                                                 \n",
            " activation_36 (Activation)  (None, 32, 32, 64)        0         \n",
            "                                                                 \n",
            " batch_normalization_33 (Ba  (None, 32, 32, 64)        256       \n",
            " tchNormalization)                                               \n",
            "                                                                 \n",
            " max_pooling2d_20 (MaxPooli  (None, 16, 16, 64)        0         \n",
            " ng2D)                                                           \n",
            "                                                                 \n",
            " flatten_6 (Flatten)         (None, 16384)             0         \n",
            "                                                                 \n",
            " dense_15 (Dense)            (None, 128)               2097280   \n",
            "                                                                 \n",
            " activation_37 (Activation)  (None, 128)               0         \n",
            "                                                                 \n",
            " batch_normalization_34 (Ba  (None, 128)               512       \n",
            " tchNormalization)                                               \n",
            "                                                                 \n",
            " dropout_11 (Dropout)        (None, 128)               0         \n",
            "                                                                 \n",
            " dense_16 (Dense)            (None, 128)               16512     \n",
            "                                                                 \n",
            " activation_38 (Activation)  (None, 128)               0         \n",
            "                                                                 \n",
            " batch_normalization_35 (Ba  (None, 128)               512       \n",
            " tchNormalization)                                               \n",
            "                                                                 \n",
            " dropout_12 (Dropout)        (None, 128)               0         \n",
            "                                                                 \n",
            " dense_17 (Dense)            (None, 1)                 129       \n",
            "                                                                 \n",
            " activation_39 (Activation)  (None, 1)                 0         \n",
            "                                                                 \n",
            "=================================================================\n",
            "Total params: 2123684 (8.10 MB)\n",
            "Trainable params: 2122820 (8.10 MB)\n",
            "Non-trainable params: 864 (3.38 KB)\n",
            "_________________________________________________________________\n"
          ]
        }
      ]
    },
    {
      "cell_type": "markdown",
      "source": [
        "#Model Definition and Compilation:\n"
      ],
      "metadata": {
        "id": "NT9c5MtDt-zw"
      }
    },
    {
      "cell_type": "code",
      "source": [
        "# Output layer for multi-class classification\n",
        "num_classes = len(classes)  # Number of classes in your dataset\n",
        "model.add(layers.Dense(num_classes))  # Output neurons matching the number of classes\n",
        "model.add(layers.Activation(\"softmax\"))  # Softmax activation for multi-class classification\n",
        "\n",
        "# Compile with categorical cross-entropy\n",
        "model.compile(\n",
        "    loss='categorical_crossentropy',  # For multi-class classification\n",
        "    optimizer=opt,\n",
        "    metrics=['accuracy']\n",
        ")\n",
        "\n"
      ],
      "metadata": {
        "id": "4W08IUYmt695"
      },
      "execution_count": 13,
      "outputs": []
    },
    {
      "cell_type": "markdown",
      "source": [
        "#Evaluate and Visualize the Model:\n",
        "Evaluate the model's performance and visualize its predictions."
      ],
      "metadata": {
        "id": "qhJ0WhvYuK9L"
      }
    },
    {
      "cell_type": "code",
      "source": [
        "from tensorflow import keras\n",
        "from tensorflow.keras import layers\n",
        "\n",
        "# Correct the output layer for binary classification\n",
        "model = keras.Sequential([\n",
        "    # Other layers...\n",
        "    layers.Flatten(),\n",
        "    layers.Dense(128, activation='relu'),\n",
        "    layers.Dropout(0.5),\n",
        "    layers.Dense(1),  # One neuron for binary classification\n",
        "    layers.Activation(\"sigmoid\")  # Sigmoid activation for binary output\n",
        "])\n",
        "\n",
        "# Compile with binary cross-entropy\n",
        "model.compile(\n",
        "    loss='binary_crossentropy',\n",
        "    optimizer='adam',\n",
        "    metrics=['accuracy']\n",
        ")\n",
        "\n"
      ],
      "metadata": {
        "id": "vhMyhO7euMm-"
      },
      "execution_count": 19,
      "outputs": []
    },
    {
      "cell_type": "code",
      "source": [
        "# Sample labels for binary classification\n",
        "labels = [0, 1, 1, 0, 0, 1]  # Example binary labels\n"
      ],
      "metadata": {
        "id": "ZSgPY6fSQP9I"
      },
      "execution_count": 20,
      "outputs": []
    },
    {
      "cell_type": "markdown",
      "source": [
        "#Making Predictions:\n",
        "Use the trained model to make predictions on random test images."
      ],
      "metadata": {
        "id": "1isrYXAiuUVX"
      }
    },
    {
      "cell_type": "code",
      "source": [
        "import numpy as np\n",
        "import matplotlib.pyplot as plt\n",
        "\n",
        "# Select a random image from the validation set\n",
        "test_img, _ = val_gen.next()  # Get a batch of images\n",
        "sample_img = test_img[0]  # Select the first image from the batch\n",
        "\n",
        "# Make a prediction\n",
        "prediction = model.predict(sample_img[np.newaxis, ...])  # Add a new axis to make it a batch\n",
        "is_fire = prediction[0][0] > 0.5  # Threshold for binary classification\n",
        "\n",
        "# Display the image with the prediction\n",
        "plt.imshow(sample_img)  # Display the image\n",
        "title = \"Fire\" if is_fire else \"No Fire\"  # Title based on prediction\n",
        "plt.title(title)  # Set the title\n",
        "plt.show()  # Show the plot\n"
      ],
      "metadata": {
        "colab": {
          "base_uri": "https://localhost:8080/",
          "height": 469
        },
        "id": "wXTNBonYuTbw",
        "outputId": "06e59ab6-827d-4a11-df47-06f5d1473753"
      },
      "execution_count": 27,
      "outputs": [
        {
          "output_type": "stream",
          "name": "stdout",
          "text": [
            "1/1 [==============================] - 0s 24ms/step\n"
          ]
        },
        {
          "output_type": "display_data",
          "data": {
            "text/plain": [
              "<Figure size 640x480 with 1 Axes>"
            ],
            "image/png": "[encoded data removed]"
          },
          "metadata": {}
        }
      ]
    },
    {
      "cell_type": "code",
      "source": [
        "# Assuming 'model' is your trained fire detection model and 'val_gen' is the validation data generator\n",
        "val_loss, val_accuracy = model.evaluate(val_gen)  # Evaluate on validation set\n",
        "print(\"Validation Loss:\", val_loss)\n",
        "print(\"Validation Accuracy:\", val_accuracy)\n",
        "\n",
        "# Additional metrics for a complete analysis (if using a test set)\n",
        "from sklearn.metrics import classification_report\n",
        "\n",
        "# Predict on the validation set and generate a classification report\n",
        "y_pred = model.predict(val_gen)\n",
        "y_true = val_gen.classes  # Actual labels in the validation set\n",
        "print(classification_report(y_true, y_pred.round(), target_names=['No Fire', 'Fire']))\n"
      ],
      "metadata": {
        "colab": {
          "base_uri": "https://localhost:8080/"
        },
        "id": "8RvMEcx8h17i",
        "outputId": "3d2e0dcd-e678-48c3-88f9-7cceb92f7853"
      },
      "execution_count": 28,
      "outputs": [
        {
          "output_type": "stream",
          "name": "stdout",
          "text": [
            "2/2 [==============================] - 2s 15ms/step - loss: 0.9950 - accuracy: 0.1200\n",
            "Validation Loss: 0.9949634075164795\n",
            "Validation Accuracy: 0.11999999731779099\n",
            "2/2 [==============================] - 1s 625ms/step\n",
            "              precision    recall  f1-score   support\n",
            "\n",
            "     No Fire       1.00      0.04      0.08        50\n",
            "        Fire       0.00      0.00      0.00         0\n",
            "\n",
            "    accuracy                           0.04        50\n",
            "   macro avg       0.50      0.02      0.04        50\n",
            "weighted avg       1.00      0.04      0.08        50\n",
            "\n"
          ]
        },
        {
          "output_type": "stream",
          "name": "stderr",
          "text": [
            "/usr/local/lib/python3.10/dist-packages/sklearn/metrics/_classification.py:1344: UndefinedMetricWarning: Recall and F-score are ill-defined and being set to 0.0 in labels with no true samples. Use `zero_division` parameter to control this behavior.\n",
            "  _warn_prf(average, modifier, msg_start, len(result))\n",
            "/usr/local/lib/python3.10/dist-packages/sklearn/metrics/_classification.py:1344: UndefinedMetricWarning: Recall and F-score are ill-defined and being set to 0.0 in labels with no true samples. Use `zero_division` parameter to control this behavior.\n",
            "  _warn_prf(average, modifier, msg_start, len(result))\n",
            "/usr/local/lib/python3.10/dist-packages/sklearn/metrics/_classification.py:1344: UndefinedMetricWarning: Recall and F-score are ill-defined and being set to 0.0 in labels with no true samples. Use `zero_division` parameter to control this behavior.\n",
            "  _warn_prf(average, modifier, msg_start, len(result))\n"
          ]
        }
      ]
    },
    {
      "cell_type": "code",
      "source": [],
      "metadata": {
        "id": "sPCEVV6tlGd8"
      },
      "execution_count": null,
      "outputs": []
    }
  ]
}